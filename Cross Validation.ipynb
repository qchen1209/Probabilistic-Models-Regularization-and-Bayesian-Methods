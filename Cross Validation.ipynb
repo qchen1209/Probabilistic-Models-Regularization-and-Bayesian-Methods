{
 "cells": [
  {
   "cell_type": "code",
   "execution_count": 1,
   "metadata": {
    "scrolled": true
   },
   "outputs": [],
   "source": [
    "# Import library \n",
    "import numpy as np\n",
    "\n",
    "# Load data \n",
    "data_train = {'X': np.genfromtxt('Desktop/data/data_train_X.csv', delimiter=','), \n",
    "              't': np.genfromtxt('Desktop/data/data_train_y.csv', delimiter=',')}\n",
    "data_test = {'X': np.genfromtxt('Desktop/data/data_test_X.csv', delimiter=','), \n",
    "             't': np.genfromtxt('Desktop/data/data_test_y.csv', delimiter=',')}"
   ]
  },
  {
   "cell_type": "markdown",
   "metadata": {},
   "source": [
    "(a) Write the above 6 functions, and identify the correct order and arguments to do cross validation.\n",
    "\n",
    "The correct order and arguments are:\n",
    "1. shuffle_data(data)\n",
    "2. split_data(data, num_folds, fold)\n",
    "3. train_model(data, lambd)\n",
    "4. predict(data, model)\n",
    "5. loss(data, model)\n",
    "6. cross_validation(data, num_folds, lambd_seq)"
   ]
  },
  {
   "cell_type": "code",
   "execution_count": 2,
   "metadata": {},
   "outputs": [],
   "source": [
    "def shuffle_data(data):\n",
    "    \"\"\"\n",
    "    input: \n",
    "        data: data_train\n",
    "    output:\n",
    "        data_shf: randomly permuted version of original data\n",
    "    Description:  \n",
    "        A uniformly random permutation of the training data. Note that t and phi are\n",
    "        permuted the same way to keep the target-feature pairs\n",
    "    \"\"\"\n",
    "\n",
    "    # create index for the training data\n",
    "    index = np.arange(len(data['t']))\n",
    "    \n",
    "    # randomly assign target-feature pairs to different index\n",
    "    index = np.random.permutation(index)\n",
    "    data_shf = {'t': data['t'][index], 'X': data['X'][index, :]}\n",
    "\n",
    "    return data_shf"
   ]
  },
  {
   "cell_type": "code",
   "execution_count": 3,
   "metadata": {},
   "outputs": [],
   "source": [
    "def split_data(data, num_folds, fold):\n",
    "    \"\"\"\n",
    "    input: \n",
    "        data: data_train\n",
    "        num_folds: number of partitions chosen\n",
    "        fold: the selected partition\n",
    "    output:\n",
    "        data_fold: the selected partition of data\n",
    "        data_rest: the remaining data\n",
    "    Description:\n",
    "        Spilit the training data into training set and validation set \n",
    "        according to number of folds. The fold got selected contains the validation set.\n",
    "        The rest is considered as training set.\n",
    "    \"\"\"\n",
    "\n",
    "    # calculate how many data points are in each fold(block)\n",
    "    length = len(data['t'])    \n",
    "    size = int(length // num_folds)\n",
    "    \n",
    "    # calculate the starting and ending index for each fold(block)\n",
    "    index_s = (fold - 1) * size \n",
    "    index_e = fold * size\n",
    "\n",
    "    # Create a validation set which comes from ith fold\n",
    "    data_fold = {'t': data['t'][index_s:index_e], \n",
    "               'X': data['X'][index_s:index_e, :]}\n",
    "    \n",
    "    # Create a training set which contains every data point except the ones in the ith fold\n",
    "    data_rest = {'t': np.concatenate([data['t'][:index_s], data['t'][index_e:]], axis=0),\n",
    "                 'X': np.concatenate([data['X'][:index_s], data['X'][index_e:]], axis=0)}\n",
    "    \n",
    "    return data_fold, data_rest"
   ]
  },
  {
   "cell_type": "code",
   "execution_count": 4,
   "metadata": {},
   "outputs": [],
   "source": [
    "def train_model(data, lambd):\n",
    "    \"\"\"\n",
    "    input: \n",
    "        data: training set\n",
    "        lambd: value of lambda\n",
    "    output:\n",
    "        model: the coefficients of ridge regression with penalty level lambda\n",
    "    Description:\n",
    "        Train a ridge regression model and get the coefficients. Ignore the intercept.\n",
    "    \"\"\"\n",
    "    \n",
    "    # extract the target and feature values from the training set\n",
    "    X = data['X']\n",
    "    t = data['t']\n",
    "\n",
    "    # Matrix multiplication\n",
    "    XT_X = np.dot(X.T, X)\n",
    "    \n",
    "    # Find the coefficients of ridge regression\n",
    "    model = np.dot(np.dot(np.linalg.inv(XT_X + lambd * np.identity(X.shape[1])), X.T), t)\n",
    "\n",
    "    return model"
   ]
  },
  {
   "cell_type": "code",
   "execution_count": 5,
   "metadata": {},
   "outputs": [],
   "source": [
    "def predict(data, model):\n",
    "    \"\"\" \n",
    "    input: \n",
    "        data: validation set\n",
    "        model: the coefficients of ridge regression based on the traning set\n",
    "    output:\n",
    "        predictions: target value based on model \n",
    "    Description:\n",
    "        Get the predictions based on training set and model coefficients.\n",
    "    \"\"\"\n",
    "    \n",
    "    # extract features from validation set\n",
    "    X = data['X']\n",
    "    \n",
    "    # compute the target values\n",
    "    predictions = np.dot(X, model)\n",
    "    \n",
    "    return predictions"
   ]
  },
  {
   "cell_type": "code",
   "execution_count": 6,
   "metadata": {},
   "outputs": [],
   "source": [
    "def loss(data, model):\n",
    "    \"\"\"\n",
    "    input: \n",
    "        data: validation set\n",
    "        model: the coefficients of ridge regression based on the traning set\n",
    "    output:\n",
    "        error: the average squared loss based on the coefficients of ridge regression\n",
    "    Description:\n",
    "        Calculate the mean squared error loss based on model.\n",
    "    \"\"\"\n",
    "    \n",
    "    # predicted targets\n",
    "    predictions = predict(data, model)\n",
    "    \n",
    "    # real targets extracted from validation set\n",
    "    t = data['t']\n",
    "    \n",
    "    # calculate the mean square error\n",
    "    error = np.mean((t - predictions)**2)\n",
    "    \n",
    "    return error"
   ]
  },
  {
   "cell_type": "code",
   "execution_count": 7,
   "metadata": {},
   "outputs": [],
   "source": [
    "def cross_validation(data, num_folds, lambd_seq): \n",
    "    '''\n",
    "    input: \n",
    "        data: data_train\n",
    "        num_folds: number of folds chosen\n",
    "        lambda_seq: a sequence of lambda values\n",
    "    output:\n",
    "        cv_error: the cross validation error across all lambda values\n",
    "    description:\n",
    "        There is a total of 50 lambdas. For each lambda in lambd_seq, \n",
    "        split the data into <num_folds> number of folds.\n",
    "        Then train the model on the training set and validate it on the validation set.\n",
    "        Finally, take an average of the validation error for each specific lambda.\n",
    "    '''\n",
    "    \n",
    "    # randomly permute data\n",
    "    data = shuffle_data(data)\n",
    "    \n",
    "    # initialize the cross validation error\n",
    "    cv_error = [0] * len(lambd_seq)\n",
    "    \n",
    "    # calculate the cross valudation error\n",
    "    for i in range(len(lambd_seq)):\n",
    "        lambd = lambd_seq[i]\n",
    "        cv_loss_lmd = 0\n",
    "        for fold in range(1, num_folds + 1):\n",
    "            val_cv, train_cv = split_data(data, num_folds, fold)\n",
    "            model = train_model(train_cv, lambd)\n",
    "            cv_loss_lmd += loss(val_cv, model)\n",
    "        cv_error[i] = cv_loss_lmd / num_folds\n",
    "    \n",
    "    return cv_error"
   ]
  },
  {
   "cell_type": "markdown",
   "metadata": {},
   "source": [
    "(b) Find the training and test errors cooresponding to each lambda in lambd_seq."
   ]
  },
  {
   "cell_type": "code",
   "execution_count": 8,
   "metadata": {},
   "outputs": [
    {
     "name": "stdout",
     "output_type": "stream",
     "text": [
      "lambd_seq length : 50\n",
      "training_error length : 50\n",
      "test_error length : 50\n"
     ]
    }
   ],
   "source": [
    "def train_test_error(data_train, data_test, lambd_seq): \n",
    "    \"\"\"\n",
    "    input: \n",
    "        data_train: training data\n",
    "        data_test: test data\n",
    "        lambda_seq: a sequence of lambda values\n",
    "    output:\n",
    "        training_error: MSE using training data\n",
    "        test_error: MSE using test data\n",
    "    description:\n",
    "        There is a total of 50 lambdas. \n",
    "        For each lambda in lambd_seq, use training data to fit a ridge regression \n",
    "        and estimate w hat. And then calculte the training error.\n",
    "        Also, use the estiamted w hat and test data\n",
    "        to predict the target values. And then calculate the test error.\n",
    "    \"\"\"\n",
    "    \n",
    "    # initialize the training and test error\n",
    "    training_error = [0] * len(lambd_seq)\n",
    "    test_error = [0] * len(lambd_seq)\n",
    "\n",
    "    # calculate the training and test error\n",
    "    for i in range(len(lambd_seq)):\n",
    "        lambd = lambd_seq[i]\n",
    "        model = train_model(data_train, lambd)\n",
    "        training_error[i] = loss(data_train, model)\n",
    "        test_error[i] = loss(data_test, model)\n",
    "    \n",
    "    return training_error, test_error\n",
    "\n",
    "# take lambd_seq as evenly spaced 50 numbers over the interval [0.02, 1.5]\n",
    "lambd_seq = np.arange(0.02, 1.5, (1.5-0.02) / 50)\n",
    "print('lambd_seq length : {}'.format(len(lambd_seq)))\n",
    "\n",
    "# find traning and test error\n",
    "training_error, test_error = train_test_error(data_train, data_test, lambd_seq)\n",
    "print('training_error length : {}'.format(len(training_error)))\n",
    "print('test_error length : {}'.format(len(test_error)))\n"
   ]
  },
  {
   "cell_type": "code",
   "execution_count": 9,
   "metadata": {},
   "outputs": [
    {
     "name": "stdout",
     "output_type": "stream",
     "text": [
      "    Lambda  Training Error  Test Error\n",
      "0   0.0200        0.049736    5.106960\n",
      "1   0.0496        0.104808    3.647064\n",
      "2   0.0792        0.152146    3.086147\n",
      "3   0.1088        0.195029    2.784853\n",
      "4   0.1384        0.234971    2.599295\n",
      "5   0.1680        0.272813    2.476167\n",
      "6   0.1976        0.309062    2.390720\n",
      "7   0.2272        0.344041    2.329798\n",
      "8   0.2568        0.377969    2.285721\n",
      "9   0.2864        0.410997    2.253696\n",
      "10  0.3160        0.443232    2.230568\n",
      "11  0.3456        0.474758    2.214174\n",
      "12  0.3752        0.505635    2.202982\n",
      "13  0.4048        0.535912    2.195872\n",
      "14  0.4344        0.565628    2.192010\n",
      "15  0.4640        0.594815    2.190762\n",
      "16  0.4936        0.623500    2.191635\n",
      "17  0.5232        0.651706    2.194244\n",
      "18  0.5528        0.679451    2.198280\n",
      "19  0.5824        0.706753    2.203498\n",
      "20  0.6120        0.733627    2.209694\n",
      "21  0.6416        0.760088    2.216705\n",
      "22  0.6712        0.786147    2.224395\n",
      "23  0.7008        0.811816    2.232649\n",
      "24  0.7304        0.837105    2.241372\n",
      "25  0.7600        0.862025    2.250485\n",
      "26  0.7896        0.886585    2.259920\n",
      "27  0.8192        0.910794    2.269619\n",
      "28  0.8488        0.934659    2.279533\n",
      "29  0.8784        0.958189    2.289620\n",
      "30  0.9080        0.981391    2.299843\n",
      "31  0.9376        1.004272    2.310172\n",
      "32  0.9672        1.026841    2.320580\n",
      "33  0.9968        1.049102    2.331043\n",
      "34  1.0264        1.071062    2.341541\n",
      "35  1.0560        1.092729    2.352057\n",
      "36  1.0856        1.114107    2.362575\n",
      "37  1.1152        1.135203    2.373083\n",
      "38  1.1448        1.156022    2.383567\n",
      "39  1.1744        1.176569    2.394020\n",
      "40  1.2040        1.196851    2.404431\n",
      "41  1.2336        1.216872    2.414793\n",
      "42  1.2632        1.236637    2.425101\n",
      "43  1.2928        1.256151    2.435347\n",
      "44  1.3224        1.275418    2.445527\n",
      "45  1.3520        1.294445    2.455638\n",
      "46  1.3816        1.313234    2.465674\n",
      "47  1.4112        1.331790    2.475634\n",
      "48  1.4408        1.350118    2.485515\n",
      "49  1.4704        1.368222    2.495313\n"
     ]
    }
   ],
   "source": [
    "# import library \n",
    "import pandas as pd\n",
    "\n",
    "# Create a dataframe of training and test error for each lambda\n",
    "data = {'Lambda':  lambd_seq,\n",
    "        'Training Error': training_error,\n",
    "        'Test Error': test_error\n",
    "        }\n",
    "df = pd.DataFrame(data, columns = ['Lambda', 'Training Error', 'Test Error'])\n",
    "print(df)"
   ]
  },
  {
   "cell_type": "markdown",
   "metadata": {},
   "source": [
    "(c) Plot training error, test error, and 5-fold and 10-fold cross validation errors on the same plot for each value in lambd_seq. What is the value of lambda proposed by cross validation procedure? Comment on the shapes of the error curves."
   ]
  },
  {
   "cell_type": "code",
   "execution_count": 10,
   "metadata": {},
   "outputs": [
    {
     "name": "stdout",
     "output_type": "stream",
     "text": [
      "five_fold length : 50\n",
      "ten_fold length : 50\n"
     ]
    }
   ],
   "source": [
    "five_fold = cross_validation(data_train, 5, lambd_seq)\n",
    "ten_fold = cross_validation(data_train, 10, lambd_seq)\n",
    "print('five_fold length : {}'.format(len(five_fold)))\n",
    "print('ten_fold length : {}'.format(len(ten_fold)))"
   ]
  },
  {
   "cell_type": "code",
   "execution_count": 11,
   "metadata": {},
   "outputs": [
    {
     "name": "stdout",
     "output_type": "stream",
     "text": [
      "    Lambda  Five-Fold CV Error  Ten-Fold CV Error\n",
      "0   0.0200            4.105061           3.894221\n",
      "1   0.0496            3.538998           3.290587\n",
      "2   0.0792            3.274605           3.048222\n",
      "3   0.1088            3.124482           2.917935\n",
      "4   0.1384            3.031234           2.839851\n",
      "5   0.1680            2.970575           2.790762\n",
      "6   0.1976            2.930293           2.759491\n",
      "7   0.2272            2.903532           2.739913\n",
      "8   0.2568            2.886138           2.728373\n",
      "9   0.2864            2.875445           2.722550\n",
      "10  0.3160            2.869669           2.720897\n",
      "11  0.3456            2.867569           2.722347\n",
      "12  0.3752            2.868260           2.726141\n",
      "13  0.4048            2.871095           2.731723\n",
      "14  0.4344            2.875592           2.738682\n",
      "15  0.4640            2.881386           2.746706\n",
      "16  0.4936            2.888193           2.755553\n",
      "17  0.5232            2.895797           2.765039\n",
      "18  0.5528            2.904023           2.775015\n",
      "19  0.5824            2.912736           2.785365\n",
      "20  0.6120            2.921824           2.795996\n",
      "21  0.6416            2.931200           2.806833\n",
      "22  0.6712            2.940792           2.817814\n",
      "23  0.7008            2.950541           2.828889\n",
      "24  0.7304            2.960399           2.840019\n",
      "25  0.7600            2.970327           2.851169\n",
      "26  0.7896            2.980292           2.862313\n",
      "27  0.8192            2.990266           2.873427\n",
      "28  0.8488            3.000228           2.884494\n",
      "29  0.8784            3.010160           2.895498\n",
      "30  0.9080            3.020045           2.906426\n",
      "31  0.9376            3.029872           2.917268\n",
      "32  0.9672            3.039629           2.928016\n",
      "33  0.9968            3.049309           2.938662\n",
      "34  1.0264            3.058904           2.949202\n",
      "35  1.0560            3.068408           2.959630\n",
      "36  1.0856            3.077818           2.969945\n",
      "37  1.1152            3.087129           2.980142\n",
      "38  1.1448            3.096338           2.990220\n",
      "39  1.1744            3.105443           3.000178\n",
      "40  1.2040            3.114443           3.010015\n",
      "41  1.2336            3.123337           3.019730\n",
      "42  1.2632            3.132123           3.029323\n",
      "43  1.2928            3.140802           3.038795\n",
      "44  1.3224            3.149373           3.048146\n",
      "45  1.3520            3.157837           3.057377\n",
      "46  1.3816            3.166194           3.066488\n",
      "47  1.4112            3.174445           3.075481\n",
      "48  1.4408            3.182590           3.084357\n",
      "49  1.4704            3.190630           3.093117\n"
     ]
    }
   ],
   "source": [
    "# Create a dataframe of 5-fold and 10-fold cross validation errors for each lambda\n",
    "data1 = {'Lambda':  lambd_seq,\n",
    "        'Five-Fold CV Error': five_fold,\n",
    "        'Ten-Fold CV Error': ten_fold\n",
    "        }\n",
    "df1 = pd.DataFrame(data1, columns = ['Lambda', 'Five-Fold CV Error', 'Ten-Fold CV Error'])\n",
    "print(df1)"
   ]
  },
  {
   "cell_type": "code",
   "execution_count": 12,
   "metadata": {},
   "outputs": [
    {
     "data": {
      "image/png": "[encoded data removed]",
      "text/plain": [
       "<Figure size 432x288 with 1 Axes>"
      ]
     },
     "metadata": {
      "needs_background": "light"
     },
     "output_type": "display_data"
    }
   ],
   "source": [
    "# Import library\n",
    "import matplotlib.pyplot as plt\n",
    "\n",
    "# plot lambda vs training/test/five-fold cv/ten-fold cv error\n",
    "plt.figure()\n",
    "plt.plot(lambd_seq, training_error, 'y-')\n",
    "plt.plot(lambd_seq, test_error, 'g--')\n",
    "plt.plot(lambd_seq, five_fold, 'r-')\n",
    "plt.plot(lambd_seq, ten_fold, \"b.\")\n",
    "plt.title(\"Lambda vs Four Kinds of Mean Squared Error\")\n",
    "plt.xlabel(\"lambda\")\n",
    "plt.ylabel(\"Error\")\n",
    "plt.legend(['Training Error', 'Test Error', 'Five Fold CV Error', 'Ten Fold CV Error'])\n",
    "plt.show()\n"
   ]
  },
  {
   "cell_type": "code",
   "execution_count": 13,
   "metadata": {},
   "outputs": [
    {
     "name": "stdout",
     "output_type": "stream",
     "text": [
      "The value of lambda proposed by five-fold cross validation : 0.3456\n",
      "The value of lambda proposed by ten-fold cross validation : 0.316\n"
     ]
    }
   ],
   "source": [
    "lambd_test = lambd_seq[test_error.index(min(test_error))]\n",
    "lambd_five_fold= lambd_seq[five_fold.index(min(five_fold))]\n",
    "lambd_ten_fold = lambd_seq[ten_fold.index(min(ten_fold))]\n",
    "print('The value of lambda proposed by five-fold cross validation : {}'.format(round(lambd_five_fold,4)))\n",
    "print('The value of lambda proposed by ten-fold cross validation : {}'.format(round(lambd_ten_fold,4)))"
   ]
  },
  {
   "cell_type": "markdown",
   "metadata": {},
   "source": [
    "The shape of training error is like a half arch. The training error is always increasing as lambda increases.\n",
    "The shapes of test error, five-fold cross validation error, and ten-fold cross validation error are like sickles. The error curves of these three types decrease at the beginning and then start to increase gradually as lambda increases."
   ]
  }
 ],
 "metadata": {
  "kernelspec": {
   "display_name": "Python 3",
   "language": "python",
   "name": "python3"
  },
  "language_info": {
   "codemirror_mode": {
    "name": "ipython",
    "version": 3
   },
   "file_extension": ".py",
   "mimetype": "text/x-python",
   "name": "python",
   "nbconvert_exporter": "python",
   "pygments_lexer": "ipython3",
   "version": "3.8.5"
  }
 },
 "nbformat": 4,
 "nbformat_minor": 4
}
